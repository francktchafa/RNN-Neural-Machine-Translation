{
 "cells": [
  {
   "cell_type": "code",
   "execution_count": 1,
   "id": "ddd37e2e-b02d-44d1-865c-b5a7b24b53f6",
   "metadata": {
    "ExecuteTime": {
     "end_time": "2025-03-19T18:33:43.975579Z",
     "start_time": "2025-03-19T18:33:39.906930Z"
    }
   },
   "outputs": [],
   "source": [
    "\"\"\"\n",
    "A Neural Machine Translation (NMT) model designed for date format conversion. Using the attention mechanism,\n",
    "it translates human-readable dates in various formats (e.g., \"25th of June, 2009\" \"03/30/1968\" and more)\n",
    "into standardized machine-readable formats like YYYY-MM-DD (e.g., \"2009-06-25\").\n",
    "\"\"\"\n",
    "\n",
    "import os\n",
    "from utils_nmt import *\n",
    "import numpy as np\n",
    "import tensorflow as tf\n",
    "from tensorflow.keras.models import Model\n",
    "from tensorflow.keras.layers import Input, LSTM, Bidirectional, RepeatVector, Dense, Activation\n",
    "from tensorflow.keras.layers import Dot, Concatenate\n",
    "from tensorflow.keras.optimizers.legacy import Adam\n",
    "from tensorflow.keras.callbacks import EarlyStopping, LearningRateScheduler, ReduceLROnPlateau, ModelCheckpoint\n",
    "\n",
    "seed = 0\n",
    "np.random.seed(seed)\n",
    "tf.random.set_seed(seed)\n",
    "%matplotlib inline"
   ]
  },
  {
   "cell_type": "code",
   "execution_count": 2,
   "id": "10fa31e2-c229-48ca-a5fa-2b134279650d",
   "metadata": {
    "ExecuteTime": {
     "end_time": "2025-03-19T18:33:45.878793Z",
     "start_time": "2025-03-19T18:33:45.750774Z"
    }
   },
   "outputs": [
    {
     "name": "stderr",
     "output_type": "stream",
     "text": [
      "100%|██████████| 10000/10000 [00:00<00:00, 94866.71it/s]"
     ]
    },
    {
     "name": "stdout",
     "output_type": "stream",
     "text": [
      "[('tuesday august 16 2016', '2016-08-16'), ('november 7 2011', '2011-11-07'), ('22 03 93', '1993-03-22'), ('apr 18 1984', '1984-04-18'), ('wednesday march 25 1998', '1998-03-25'), ('11 may 1992', '1992-05-11'), ('11 apr 2013', '2013-04-11'), ('tuesday september 30 1986', '1986-09-30'), ('april 25 1996', '1996-04-25'), ('march 18 2002', '2002-03-18')]\n",
      "{' ': 0, '.': 1, '/': 2, '0': 3, '1': 4, '2': 5, '3': 6, '4': 7, '5': 8, '6': 9, '7': 10, '8': 11, '9': 12, 'a': 13, 'b': 14, 'c': 15, 'd': 16, 'e': 17, 'f': 18, 'g': 19, 'h': 20, 'i': 21, 'j': 22, 'l': 23, 'm': 24, 'n': 25, 'o': 26, 'p': 27, 'r': 28, 's': 29, 't': 30, 'u': 31, 'v': 32, 'w': 33, 'y': 34, '<unk>': 35, '<pad>': 36}\n",
      "{'-': 0, '0': 1, '1': 2, '2': 3, '3': 4, '4': 5, '5': 6, '6': 7, '7': 8, '8': 9, '9': 10}\n"
     ]
    },
    {
     "name": "stderr",
     "output_type": "stream",
     "text": [
      "\n"
     ]
    }
   ],
   "source": [
    "# LOAD DATASET\n",
    "m = 10000  # Training samples (human-readable dates and their equivalent, standardized, machine-readable dates)\n",
    "dataset, human_vocab, machine_vocab, inv_machine_vocab = load_dataset(m)\n",
    "print(dataset[:10])\n",
    "print(human_vocab)\n",
    "print(machine_vocab)"
   ]
  },
  {
   "cell_type": "code",
   "execution_count": 3,
   "id": "822491d1-71c1-49a8-8947-f2c3850dda83",
   "metadata": {
    "ExecuteTime": {
     "end_time": "2025-03-19T18:33:47.957015Z",
     "start_time": "2025-03-19T18:33:47.955045Z"
    }
   },
   "outputs": [],
   "source": [
    "# Note:\n",
    "# - dataset: a list of tuples of (human-readable date, machine-readable date).\n",
    "# - human_vocab: a python dictionary mapping all characters used in the human-readable dates to an integer-valued index.\n",
    "# - machine_vocab: a python dictionary mapping all characters used in machine-readable dates to an integer-valued index.\n",
    "# - inv_machine_vocab: the inverse dictionary of machine_vocab, mapping from indices back to characters."
   ]
  },
  {
   "cell_type": "code",
   "execution_count": 4,
   "id": "2ed5b7e5-2a6a-440f-9208-6d58dfa4bad0",
   "metadata": {
    "ExecuteTime": {
     "end_time": "2025-03-19T18:33:49.111017Z",
     "start_time": "2025-03-19T18:33:49.035338Z"
    }
   },
   "outputs": [],
   "source": [
    "# PROCESS DATASET\n",
    "Tx = 30  # Set to 30. Maximum length of a human-readable date; longer inputs will be truncated\n",
    "Ty = 10  # Set to 10 because \"YYYY-MM-DD\" has 10 characters\n",
    "X_train, Y_train, Xoh_train, Yoh_train, \\\n",
    "    X_cv, Y_cv, Xoh_cv, Yoh_cv, \\\n",
    "    X_test, Y_test, Xoh_test, Yoh_test = preprocess_and_split_data(dataset, human_vocab, machine_vocab,\n",
    "                                                                   Tx, Ty, validation=True)"
   ]
  },
  {
   "cell_type": "code",
   "execution_count": 5,
   "id": "45c0096c-c325-4617-8188-ef96efc1e1ac",
   "metadata": {
    "ExecuteTime": {
     "end_time": "2025-03-19T18:33:49.722403Z",
     "start_time": "2025-03-19T18:33:49.720462Z"
    }
   },
   "outputs": [
    {
     "name": "stdout",
     "output_type": "stream",
     "text": [
      "-------- The shapes for the various datasets --------\n",
      "X_train: (7000, 30), Y_train: (7000, 10)\n",
      "X_cv: (1500, 30), Y_cv: (1500, 10)\n",
      "X_test: (1500, 30), Y_test: (1500, 10)\n",
      "Xoh_train: (7000, 30, 37), Yoh_train: (7000, 10, 11)\n",
      "Xoh_cv: (1500, 30, 37), Yoh_cv: (1500, 10, 11)\n",
      "Xoh_test: (1500, 30, 37), Yoh_test: (1500, 10, 11)\n"
     ]
    }
   ],
   "source": [
    "# Print shapes to verify the split\n",
    "print(\"-------- The shapes for the various datasets --------\")\n",
    "print(f\"X_train: {X_train.shape}, Y_train: {Y_train.shape}\")\n",
    "print(f\"X_cv: {X_cv.shape}, Y_cv: {Y_cv.shape}\")\n",
    "print(f\"X_test: {X_test.shape}, Y_test: {Y_test.shape}\")\n",
    "print(f\"Xoh_train: {Xoh_train.shape}, Yoh_train: {Yoh_train.shape}\")\n",
    "print(f\"Xoh_cv: {Xoh_cv.shape}, Yoh_cv: {Yoh_cv.shape}\")\n",
    "print(f\"Xoh_test: {Xoh_test.shape}, Yoh_test: {Yoh_test.shape}\")"
   ]
  },
  {
   "cell_type": "code",
   "execution_count": 6,
   "id": "caa5c15e-3ebe-49df-ac85-0e317dee2640",
   "metadata": {
    "ExecuteTime": {
     "end_time": "2025-03-19T18:33:50.710193Z",
     "start_time": "2025-03-19T18:33:50.707895Z"
    }
   },
   "outputs": [
    {
     "name": "stdout",
     "output_type": "stream",
     "text": [
      "\n",
      "Source date: tuesday august 16 2016 & Target date: 2016-08-16\n",
      "\n",
      "Source (indices): [ 4  9  0 29 17 27  0  4 12 11  4 36 36 36 36 36 36 36 36 36 36 36 36 36\n",
      " 36 36 36 36 36 36]\n",
      "Target (indices): [ 2 10  9  2  0  1 10  0  2  7]\n",
      "\n",
      "Source (one-hot): [[0. 0. 0. ... 0. 0. 0.]\n",
      " [0. 0. 0. ... 0. 0. 0.]\n",
      " [1. 0. 0. ... 0. 0. 0.]\n",
      " ...\n",
      " [0. 0. 0. ... 0. 0. 1.]\n",
      " [0. 0. 0. ... 0. 0. 1.]\n",
      " [0. 0. 0. ... 0. 0. 1.]]\n",
      "\n",
      "Target (one-hot): [[0. 0. 1. 0. 0. 0. 0. 0. 0. 0. 0.]\n",
      " [0. 0. 0. 0. 0. 0. 0. 0. 0. 0. 1.]\n",
      " [0. 0. 0. 0. 0. 0. 0. 0. 0. 1. 0.]\n",
      " [0. 0. 1. 0. 0. 0. 0. 0. 0. 0. 0.]\n",
      " [1. 0. 0. 0. 0. 0. 0. 0. 0. 0. 0.]\n",
      " [0. 1. 0. 0. 0. 0. 0. 0. 0. 0. 0.]\n",
      " [0. 0. 0. 0. 0. 0. 0. 0. 0. 0. 1.]\n",
      " [1. 0. 0. 0. 0. 0. 0. 0. 0. 0. 0.]\n",
      " [0. 0. 1. 0. 0. 0. 0. 0. 0. 0. 0.]\n",
      " [0. 0. 0. 0. 0. 0. 0. 1. 0. 0. 0.]]\n"
     ]
    }
   ],
   "source": [
    "# Verification using one example in the dataset\n",
    "index = 0\n",
    "# Display source and target dates\n",
    "print(f\"\\nSource date: {dataset[index][0]} & Target date: {dataset[index][1]}\\n\")\n",
    "\n",
    "# Display preprocessed data\n",
    "print(f\"Source (indices): {X_train[index]}\")\n",
    "print(f\"Target (indices): {Y_train[index]}\\n\")\n",
    "\n",
    "# Display one-hot encoded data\n",
    "print(f\"Source (one-hot): {Xoh_train[index]}\\n\")\n",
    "print(f\"Target (one-hot): {Yoh_train[index]}\")"
   ]
  },
  {
   "cell_type": "code",
   "execution_count": 7,
   "id": "8bceb4df-61fd-4e9d-9ee7-e5856fe243b3",
   "metadata": {
    "ExecuteTime": {
     "end_time": "2025-03-19T18:33:51.816486Z",
     "start_time": "2025-03-19T18:33:51.804278Z"
    }
   },
   "outputs": [],
   "source": [
    "# NEURAL MACHINE TRANSLATION WITH ATTENTION (NMT)\n",
    "# Note: Two functions are needed to build our NMT: model() and one_step_attention().\n",
    "# The function model() will call the layers in one_step_attention()  Ty times using a for-loop. One should not\n",
    "# reinitialize the weights every time (i.e., all Ty  steps should have shared weights)\n",
    "\n",
    "# Defining shared layers as global variables\n",
    "repeator = RepeatVector(Tx)\n",
    "concatenator = Concatenate(axis=-1)\n",
    "densor1 = Dense(10, activation=\"tanh\")\n",
    "densor2 = Dense(1, activation=\"relu\")\n",
    "activator = Activation(activation=softmax, name='attention_weights')  # Custom softmax(axis=1) found in utils_nmt.py\n",
    "dotor = Dot(axes=1)"
   ]
  },
  {
   "cell_type": "code",
   "execution_count": 8,
   "id": "82bc5ed3-ee14-450f-add3-e433bea4f7a4",
   "metadata": {
    "ExecuteTime": {
     "end_time": "2025-03-19T18:33:53.005995Z",
     "start_time": "2025-03-19T18:33:53.002906Z"
    }
   },
   "outputs": [],
   "source": [
    "# Implementing the one_step_attention()\n",
    "def one_step_attention(a, s_prev):\n",
    "    \"\"\"\n",
    "    Performs one step of the attention mechanism, outputting a context vector. The context vector\n",
    "    is computed as the dot product of the attention weights (alphas) and the hidden states (a) of\n",
    "    the Bi-LSTM.\n",
    "\n",
    "    Arguments:\n",
    "        a (numpy.ndarray): Hidden states output of the Bi-LSTM, of shape (m, Tx, 2*n_a), where:\n",
    "            - m: Number of training examples.\n",
    "            - Tx: Length of the input sequence.\n",
    "            - 2*n_a: Dimension of the Bi-LSTM hidden states (concatenation of forward and backward LSTM states).\n",
    "        s_prev (numpy.ndarray): Previous hidden state of the post-attention LSTM, of shape (m, n_s), where:\n",
    "            - n_s: Dimension of the post-attention LSTM hidden state.\n",
    "\n",
    "    Returns:\n",
    "        context (numpy.ndarray): The context vector, of shape (m, 1, 2*n_a), to be used as input to the next\n",
    "        post-attention LSTM cell.\n",
    "\n",
    "    Notes:\n",
    "        - This is one step of attention, and it is repeated for each time step in a sequence-to-sequence model.\n",
    "        - The function assumes pre-initialized layers (`repeator`, `concatenator`, `densor1`, `densor2`, `activator`,\n",
    "        `dotor`) defined globally, which are responsible for repeating, concatenating, and transforming the inputs.\n",
    "\n",
    "    \"\"\"\n",
    "    # Repeat s_prev to match the shape of a\n",
    "    s_prev = repeator(s_prev)\n",
    "\n",
    "    # Concatenate a and s_prev along the last axis\n",
    "    concat = concatenator([a, s_prev])\n",
    "\n",
    "    # Compute intermediate energies using a small fully-connected neural network (densor1)\n",
    "    e = densor1(concat)\n",
    "\n",
    "    # Compute the energy scores from intermediate energies using a small fully-connected neural network (densor2)\n",
    "    energies = densor2(e)\n",
    "\n",
    "    # Compute attention weights using a softmax activation\n",
    "    alphas = activator(energies)\n",
    "\n",
    "    # Compute the context vector as a weighted sum of alphas and a\n",
    "    context = dotor([alphas, a])\n",
    "\n",
    "    return context"
   ]
  },
  {
   "cell_type": "code",
   "execution_count": 9,
   "id": "6d165c00-15e8-4514-9465-5ed3bc9315b7",
   "metadata": {
    "ExecuteTime": {
     "end_time": "2025-03-19T18:33:53.939657Z",
     "start_time": "2025-03-19T18:33:53.930243Z"
    }
   },
   "outputs": [],
   "source": [
    "# Build the final model\n",
    "n_a = 32  # The number of units for the pre-attention, bidirectional LSTM's hidden state 'a'\n",
    "n_s = 64  # THe number of units for the post-attention LSTM's hidden state \"s\"\n",
    "\n",
    "post_activation_LSTM_cell = LSTM(n_s, return_state=True, return_sequences=True)  # The post-attention LSTM cell.\n",
    "output_layer = Dense(len(machine_vocab), activation=softmax, name='OutputLayer')"
   ]
  },
  {
   "cell_type": "code",
   "execution_count": 10,
   "id": "cd2cec54-c263-4f38-bc1e-2df43a44c292",
   "metadata": {
    "ExecuteTime": {
     "end_time": "2025-03-19T18:33:54.957712Z",
     "start_time": "2025-03-19T18:33:54.953728Z"
    }
   },
   "outputs": [],
   "source": [
    "def model_nmt(Tx, Ty, n_a, n_s, human_vocab_size, machine_vocab_size):\n",
    "    \"\"\"\n",
    "    Defines a sequence-to-sequence model with an attention mechanism to convert\n",
    "    input sequences (human-readable dates. e.g., \"25th of June, 2009,\") to output sequences\n",
    "    (machine-readable dates. e.g., 2009-06-25).\n",
    "\n",
    "    Arguments:\n",
    "        Tx (int): Maximum length of human-readable date strings.\n",
    "        Ty (int): Length of the output sequence (e.g., the fixed length of machine-readable date strings).\n",
    "        n_a (int): Hidden state size of the pre-attention Bi-LSTM.\n",
    "        n_s (int): Hidden state size of the post-attention LSTM.\n",
    "        human_vocab_size (int): Size of the python dictionary \"human_vocab\"\n",
    "        machine_vocab_size (int): Size of the python dictionary \"machine_vocab\"\n",
    "\n",
    "    Returns:\n",
    "        model (keras.Model): Keras model instance\n",
    "\n",
    "    Workflow:\n",
    "        1. Define the inputs, including:\n",
    "            - `X`: Input sequence of shape `(Tx, human_vocab_size)`.\n",
    "            - `s0`: Initial hidden state of shape `(n_s,)`.\n",
    "            - `c0`: Initial cell state of shape `(n_s,)`.\n",
    "        2. Pass the input `X` through a Bidirectional LSTM (Bi-LSTM) to obtain hidden states `a` (pre-attention representation).\n",
    "        3. For each timestep `t` in the output sequence (length `Ty`):\n",
    "            - Compute the context vector `context` using the attention mechanism (`one_step_attention`).\n",
    "            - Update the hidden state `s` and cell state `c` of the post-attention LSTM using the `context` vector.\n",
    "            - Generate the output for timestep `t` using a Dense layer applied to `s`.\n",
    "            - Append the output to the `outputs` list.\n",
    "        4. Create and return the final model instance.\n",
    "\n",
    "    \"\"\"\n",
    "    # Define the input sequence of shape (Tx, human_vocab_size)\n",
    "    X = Input(shape=(Tx, human_vocab_size))\n",
    "\n",
    "    # Define the initial hidden state and cell state\n",
    "    s0 = Input(shape=(n_s,), name='s0')  # Initial hidden state\n",
    "    c0 = Input(shape=(n_s,), name='c0')  # Initial cell state\n",
    "\n",
    "    # Initialize the current hidden and cell states\n",
    "    s = s0\n",
    "    c = c0\n",
    "\n",
    "    # Initialize an empty list to store the outputs for each timestep\n",
    "    outputs = []\n",
    "\n",
    "    # Step 1: Define the pre-attention Bi-LSTM.\n",
    "    a = Bidirectional(LSTM(units=n_a, return_sequences=True))(X)\n",
    "\n",
    "    # Step 2: Iterate for Ty time steps\n",
    "    for t in range(Ty):\n",
    "        # Step 2.A: Compute the context vector using the attention mechanism\n",
    "        context = one_step_attention(a, s)  # Output shape: (None, 1, 2*n_a)\n",
    "        # context = tf.keras.layers.Reshape((2*n_a, ))(context)  # Removes the extra dimension to return (None, 2*n_a)\n",
    "        \n",
    "        # Step 2.B: Update the hidden and cell states using the post-attention LSTM\n",
    "        # The LSTM takes `context` as input along with the previous hidden state (s) and previous cell state (c)\n",
    "        _, s, c = post_activation_LSTM_cell(inputs=context, initial_state=[s, c])\n",
    "\n",
    "        # Step 2.C: Generate the output for the current timestep by applying Dense layer to the hidden state output\n",
    "        # of the post-attention LSTM\n",
    "        out = output_layer(s)\n",
    "\n",
    "        # Step 2.D: Append the output for the current timestep to the outputs list\n",
    "        outputs.append(out)\n",
    "\n",
    "    # Step 3: Define the model that takes three inputs (X, s0, c0) and produces the outputs\n",
    "    nmt = Model(inputs=[X, s0, c0], outputs=outputs)\n",
    "\n",
    "    return nmt"
   ]
  },
  {
   "cell_type": "code",
   "execution_count": 11,
   "id": "79fc87e9-87c4-4542-9a0a-f4f92f74b84c",
   "metadata": {
    "ExecuteTime": {
     "end_time": "2025-03-19T18:33:57.807496Z",
     "start_time": "2025-03-19T18:33:56.848612Z"
    }
   },
   "outputs": [
    {
     "name": "stdout",
     "output_type": "stream",
     "text": [
      "Model: \"model\"\n",
      "__________________________________________________________________________________________________\n",
      " Layer (type)                Output Shape                 Param #   Connected to                  \n",
      "==================================================================================================\n",
      " input_1 (InputLayer)        [(None, 30, 37)]             0         []                            \n",
      "                                                                                                  \n",
      " s0 (InputLayer)             [(None, 64)]                 0         []                            \n",
      "                                                                                                  \n",
      " bidirectional (Bidirection  (None, 30, 64)               17920     ['input_1[0][0]']             \n",
      " al)                                                                                              \n",
      "                                                                                                  \n",
      " repeat_vector (RepeatVecto  (None, 30, 64)               0         ['s0[0][0]',                  \n",
      " r)                                                                  'lstm[0][1]',                \n",
      "                                                                     'lstm[1][1]',                \n",
      "                                                                     'lstm[2][1]',                \n",
      "                                                                     'lstm[3][1]',                \n",
      "                                                                     'lstm[4][1]',                \n",
      "                                                                     'lstm[5][1]',                \n",
      "                                                                     'lstm[6][1]',                \n",
      "                                                                     'lstm[7][1]',                \n",
      "                                                                     'lstm[8][1]']                \n",
      "                                                                                                  \n",
      " concatenate (Concatenate)   (None, 30, 128)              0         ['bidirectional[0][0]',       \n",
      "                                                                     'repeat_vector[0][0]',       \n",
      "                                                                     'bidirectional[0][0]',       \n",
      "                                                                     'repeat_vector[1][0]',       \n",
      "                                                                     'bidirectional[0][0]',       \n",
      "                                                                     'repeat_vector[2][0]',       \n",
      "                                                                     'bidirectional[0][0]',       \n",
      "                                                                     'repeat_vector[3][0]',       \n",
      "                                                                     'bidirectional[0][0]',       \n",
      "                                                                     'repeat_vector[4][0]',       \n",
      "                                                                     'bidirectional[0][0]',       \n",
      "                                                                     'repeat_vector[5][0]',       \n",
      "                                                                     'bidirectional[0][0]',       \n",
      "                                                                     'repeat_vector[6][0]',       \n",
      "                                                                     'bidirectional[0][0]',       \n",
      "                                                                     'repeat_vector[7][0]',       \n",
      "                                                                     'bidirectional[0][0]',       \n",
      "                                                                     'repeat_vector[8][0]',       \n",
      "                                                                     'bidirectional[0][0]',       \n",
      "                                                                     'repeat_vector[9][0]']       \n",
      "                                                                                                  \n",
      " dense (Dense)               (None, 30, 10)               1290      ['concatenate[0][0]',         \n",
      "                                                                     'concatenate[1][0]',         \n",
      "                                                                     'concatenate[2][0]',         \n",
      "                                                                     'concatenate[3][0]',         \n",
      "                                                                     'concatenate[4][0]',         \n",
      "                                                                     'concatenate[5][0]',         \n",
      "                                                                     'concatenate[6][0]',         \n",
      "                                                                     'concatenate[7][0]',         \n",
      "                                                                     'concatenate[8][0]',         \n",
      "                                                                     'concatenate[9][0]']         \n",
      "                                                                                                  \n",
      " dense_1 (Dense)             (None, 30, 1)                11        ['dense[0][0]',               \n",
      "                                                                     'dense[1][0]',               \n",
      "                                                                     'dense[2][0]',               \n",
      "                                                                     'dense[3][0]',               \n",
      "                                                                     'dense[4][0]',               \n",
      "                                                                     'dense[5][0]',               \n",
      "                                                                     'dense[6][0]',               \n",
      "                                                                     'dense[7][0]',               \n",
      "                                                                     'dense[8][0]',               \n",
      "                                                                     'dense[9][0]']               \n",
      "                                                                                                  \n",
      " attention_weights (Activat  (None, 30, 1)                0         ['dense_1[0][0]',             \n",
      " ion)                                                                'dense_1[1][0]',             \n",
      "                                                                     'dense_1[2][0]',             \n",
      "                                                                     'dense_1[3][0]',             \n",
      "                                                                     'dense_1[4][0]',             \n",
      "                                                                     'dense_1[5][0]',             \n",
      "                                                                     'dense_1[6][0]',             \n",
      "                                                                     'dense_1[7][0]',             \n",
      "                                                                     'dense_1[8][0]',             \n",
      "                                                                     'dense_1[9][0]']             \n",
      "                                                                                                  \n",
      " dot (Dot)                   (None, 1, 64)                0         ['attention_weights[0][0]',   \n",
      "                                                                     'bidirectional[0][0]',       \n",
      "                                                                     'attention_weights[1][0]',   \n",
      "                                                                     'bidirectional[0][0]',       \n",
      "                                                                     'attention_weights[2][0]',   \n",
      "                                                                     'bidirectional[0][0]',       \n",
      "                                                                     'attention_weights[3][0]',   \n",
      "                                                                     'bidirectional[0][0]',       \n",
      "                                                                     'attention_weights[4][0]',   \n",
      "                                                                     'bidirectional[0][0]',       \n",
      "                                                                     'attention_weights[5][0]',   \n",
      "                                                                     'bidirectional[0][0]',       \n",
      "                                                                     'attention_weights[6][0]',   \n",
      "                                                                     'bidirectional[0][0]',       \n",
      "                                                                     'attention_weights[7][0]',   \n",
      "                                                                     'bidirectional[0][0]',       \n",
      "                                                                     'attention_weights[8][0]',   \n",
      "                                                                     'bidirectional[0][0]',       \n",
      "                                                                     'attention_weights[9][0]',   \n",
      "                                                                     'bidirectional[0][0]']       \n",
      "                                                                                                  \n",
      " c0 (InputLayer)             [(None, 64)]                 0         []                            \n",
      "                                                                                                  \n",
      " lstm (LSTM)                 [(None, 1, 64),              33024     ['dot[0][0]',                 \n",
      "                              (None, 64),                            's0[0][0]',                  \n",
      "                              (None, 64)]                            'c0[0][0]',                  \n",
      "                                                                     'dot[1][0]',                 \n",
      "                                                                     'lstm[0][1]',                \n",
      "                                                                     'lstm[0][2]',                \n",
      "                                                                     'dot[2][0]',                 \n",
      "                                                                     'lstm[1][1]',                \n",
      "                                                                     'lstm[1][2]',                \n",
      "                                                                     'dot[3][0]',                 \n",
      "                                                                     'lstm[2][1]',                \n",
      "                                                                     'lstm[2][2]',                \n",
      "                                                                     'dot[4][0]',                 \n",
      "                                                                     'lstm[3][1]',                \n",
      "                                                                     'lstm[3][2]',                \n",
      "                                                                     'dot[5][0]',                 \n",
      "                                                                     'lstm[4][1]',                \n",
      "                                                                     'lstm[4][2]',                \n",
      "                                                                     'dot[6][0]',                 \n",
      "                                                                     'lstm[5][1]',                \n",
      "                                                                     'lstm[5][2]',                \n",
      "                                                                     'dot[7][0]',                 \n",
      "                                                                     'lstm[6][1]',                \n",
      "                                                                     'lstm[6][2]',                \n",
      "                                                                     'dot[8][0]',                 \n",
      "                                                                     'lstm[7][1]',                \n",
      "                                                                     'lstm[7][2]',                \n",
      "                                                                     'dot[9][0]',                 \n",
      "                                                                     'lstm[8][1]',                \n",
      "                                                                     'lstm[8][2]']                \n",
      "                                                                                                  \n",
      " OutputLayer (Dense)         (None, 11)                   715       ['lstm[0][1]',                \n",
      "                                                                     'lstm[1][1]',                \n",
      "                                                                     'lstm[2][1]',                \n",
      "                                                                     'lstm[3][1]',                \n",
      "                                                                     'lstm[4][1]',                \n",
      "                                                                     'lstm[5][1]',                \n",
      "                                                                     'lstm[6][1]',                \n",
      "                                                                     'lstm[7][1]',                \n",
      "                                                                     'lstm[8][1]',                \n",
      "                                                                     'lstm[9][1]']                \n",
      "                                                                                                  \n",
      "==================================================================================================\n",
      "Total params: 52960 (206.88 KB)\n",
      "Trainable params: 52960 (206.88 KB)\n",
      "Non-trainable params: 0 (0.00 Byte)\n",
      "__________________________________________________________________________________________________\n"
     ]
    }
   ],
   "source": [
    "model = model_nmt(Tx, Ty, n_a, n_s, len(human_vocab), len(machine_vocab))\n",
    "model.summary()"
   ]
  },
  {
   "cell_type": "code",
   "execution_count": 12,
   "id": "d4c7c8d34692c237",
   "metadata": {
    "ExecuteTime": {
     "end_time": "2025-03-19T18:34:40.462423Z",
     "start_time": "2025-03-19T18:34:40.458170Z"
    },
    "collapsed": false,
    "jupyter": {
     "outputs_hidden": false
    }
   },
   "outputs": [],
   "source": [
    "# COMPILE AND TRAIN THE MODEL\n",
    "# Define the initial learning rate and decay rate\n",
    "initial_lr = 0.005\n",
    "decay = 0.01\n",
    "\n",
    "\n",
    "# Define the learning rate schedule\n",
    "def lr_schedule(epoch, decay_rate=decay):\n",
    "    return initial_lr / (1 + decay_rate * epoch)\n",
    "\n",
    "\n",
    "# Create the optimizer\n",
    "opt = Adam(learning_rate=initial_lr, beta_1=0.9, beta_2=0.999)"
   ]
  },
  {
   "cell_type": "code",
   "execution_count": 13,
   "id": "396e27e3a70a7577",
   "metadata": {
    "ExecuteTime": {
     "end_time": "2025-03-19T18:35:14.603757Z",
     "start_time": "2025-03-19T18:35:14.597865Z"
    },
    "collapsed": false,
    "jupyter": {
     "outputs_hidden": false
    }
   },
   "outputs": [],
   "source": [
    "# Compile the model\n",
    "model.compile(optimizer=opt, loss='categorical_crossentropy', metrics=['accuracy'])"
   ]
  },
  {
   "cell_type": "code",
   "execution_count": 14,
   "id": "ba6ae2f77be97405",
   "metadata": {
    "ExecuteTime": {
     "end_time": "2025-03-19T18:35:57.421735Z",
     "start_time": "2025-03-19T18:35:57.412466Z"
    },
    "collapsed": false,
    "jupyter": {
     "outputs_hidden": false
    }
   },
   "outputs": [],
   "source": [
    "# Add the callbacks\n",
    "initial_weights_path = os.path.join(os.getcwd(), \"models\", \"model_weights.h5\")\n",
    "weights_path = os.path.join(os.getcwd(), \"models\", \"trained_weights.h5\")\n",
    "checkpoint_path = os.path.join(os.getcwd(), \"models\", \"checkpoint_model.h5\")\n",
    "\n",
    "lr_scheduler = LearningRateScheduler(lr_schedule)\n",
    "reduce_lr = ReduceLROnPlateau(monitor='val_loss', patience=8, factor=0.2, verbose=1)\n",
    "early_stopping = EarlyStopping(monitor='val_loss', patience=20,  restore_best_weights=True)\n",
    "check_point = ModelCheckpoint(checkpoint_path, monitor='val_loss', save_weights_only=True, save_best_only=True)"
   ]
  },
  {
   "cell_type": "code",
   "execution_count": 15,
   "id": "9b517f223ddb2720",
   "metadata": {
    "ExecuteTime": {
     "end_time": "2025-03-19T18:36:51.666289Z",
     "start_time": "2025-03-19T18:36:39.058626Z"
    },
    "collapsed": false,
    "jupyter": {
     "outputs_hidden": false
    }
   },
   "outputs": [
    {
     "name": "stdout",
     "output_type": "stream",
     "text": [
      "219/219 [==============================] - 13s 24ms/step - loss: 12.7122 - OutputLayer_loss: 0.6863 - OutputLayer_1_loss: 0.6241 - OutputLayer_2_loss: 1.5497 - OutputLayer_3_loss: 2.4221 - OutputLayer_4_loss: 0.3048 - OutputLayer_5_loss: 0.7682 - OutputLayer_6_loss: 2.2564 - OutputLayer_7_loss: 0.3784 - OutputLayer_8_loss: 1.3634 - OutputLayer_9_loss: 2.3588 - OutputLayer_accuracy: 0.7480 - OutputLayer_1_accuracy: 0.8014 - OutputLayer_2_accuracy: 0.3491 - OutputLayer_3_accuracy: 0.1381 - OutputLayer_4_accuracy: 0.9589 - OutputLayer_5_accuracy: 0.6394 - OutputLayer_6_accuracy: 0.1937 - OutputLayer_7_accuracy: 0.9489 - OutputLayer_8_accuracy: 0.3766 - OutputLayer_9_accuracy: 0.1460 - val_loss: 8.4820 - val_OutputLayer_loss: 0.1548 - val_OutputLayer_1_loss: 0.1473 - val_OutputLayer_2_loss: 1.1575 - val_OutputLayer_3_loss: 2.1757 - val_OutputLayer_4_loss: 0.0077 - val_OutputLayer_5_loss: 0.2120 - val_OutputLayer_6_loss: 1.5960 - val_OutputLayer_7_loss: 0.0101 - val_OutputLayer_8_loss: 1.0137 - val_OutputLayer_9_loss: 2.0071 - val_OutputLayer_accuracy: 0.9480 - val_OutputLayer_1_accuracy: 0.9533 - val_OutputLayer_2_accuracy: 0.4267 - val_OutputLayer_3_accuracy: 0.2320 - val_OutputLayer_4_accuracy: 1.0000 - val_OutputLayer_5_accuracy: 0.9460 - val_OutputLayer_6_accuracy: 0.4300 - val_OutputLayer_7_accuracy: 1.0000 - val_OutputLayer_8_accuracy: 0.5587 - val_OutputLayer_9_accuracy: 0.2740 - lr: 0.0050\n"
     ]
    }
   ],
   "source": [
    "# Train the model\n",
    "s0train = np.zeros((len(X_train), n_s))\n",
    "c0train = np.zeros((len(X_train), n_s))\n",
    "s0cv = np.zeros((len(X_cv), n_s))\n",
    "c0cv = np.zeros((len(X_cv), n_s))\n",
    "\n",
    "outputs_train = list(Yoh_train.swapaxes(0, 1))  # Swapping is required. See note below.\n",
    "outputs_cv = list(Yoh_cv.swapaxes(0, 1))\n",
    "outputs_test = list(Yoh_test.swapaxes(0, 1))\n",
    "\n",
    "hist = model.fit([Xoh_train, s0train, c0train], outputs_train,\n",
    "                 validation_data=([Xoh_cv, s0cv, c0cv], outputs_cv),\n",
    "                 epochs=1,\n",
    "                 batch_size=32,\n",
    "                 callbacks=lr_scheduler)"
   ]
  },
  {
   "cell_type": "code",
   "execution_count": 16,
   "id": "ab21f741a7cfb93b",
   "metadata": {
    "ExecuteTime": {
     "end_time": "2025-03-19T18:38:24.720383Z",
     "start_time": "2025-03-19T18:38:24.710741Z"
    },
    "collapsed": false,
    "jupyter": {
     "outputs_hidden": false
    }
   },
   "outputs": [],
   "source": [
    "# Note: OutputLayer_9_accuracy: 0.1460 means the 10th character of the output layer is correctly predicted 14.6% of\n",
    "# the time in the current batch of data. "
   ]
  },
  {
   "cell_type": "code",
   "execution_count": 17,
   "id": "1098e0683e5aa249",
   "metadata": {
    "ExecuteTime": {
     "end_time": "2025-03-19T18:38:40.059754Z",
     "start_time": "2025-03-19T18:38:40.051693Z"
    },
    "collapsed": false,
    "jupyter": {
     "outputs_hidden": false
    }
   },
   "outputs": [],
   "source": [
    "# Fine-tune the model weights\n",
    "# model.load_weights(initial_weights_path)\n",
    "# history = model.fit([Xoh_train, s0train, c0train], outputs_train,\n",
    "#                     validation_data=([Xoh_cv, s0cv, c0cv], outputs_cv),\n",
    "#                     epochs=100,\n",
    "#                     batch_size=32,\n",
    "#                     callbacks=[reduce_lr, early_stopping, check_point])  # [reduce_lr, early_stopping])\n",
    "#\n",
    "# model.save_weights(weights_path)\n",
    "# # print(history.history.keys())\n",
    "# plot_history(history)"
   ]
  },
  {
   "cell_type": "code",
   "execution_count": 18,
   "id": "7807a9469abbf549",
   "metadata": {
    "ExecuteTime": {
     "end_time": "2025-03-19T18:38:52.603926Z",
     "start_time": "2025-03-19T18:38:52.588270Z"
    },
    "collapsed": false,
    "jupyter": {
     "outputs_hidden": false
    }
   },
   "outputs": [],
   "source": [
    "# Training the model takes times. Let's load the pre-trained weights\n",
    "model.load_weights(weights_path)"
   ]
  },
  {
   "cell_type": "code",
   "execution_count": 20,
   "id": "33157e834de88fc5",
   "metadata": {
    "ExecuteTime": {
     "end_time": "2025-03-19T18:40:06.311787Z",
     "start_time": "2025-03-19T18:40:03.574072Z"
    },
    "collapsed": false,
    "jupyter": {
     "outputs_hidden": false
    }
   },
   "outputs": [
    {
     "name": "stdout",
     "output_type": "stream",
     "text": [
      "Training Dataset \n",
      " Accuracy: 99.93%\n",
      " Timestep Losses: [1.172e-05 1.395e-05 2.285e-05 1.535e-03 2.468e-08 2.451e-06 2.807e-06\n",
      " 1.890e-09 4.758e-06]\n",
      " Timestep Accuracies: [1.    1.    1.    0.999 1.    1.    1.    1.    1.    1.   ] \n",
      "Cross-validation Dataset \n",
      " Accuracy: 99.93%\n",
      " Timestep Losses: [1.036e-05 8.801e-06 3.470e-05 7.512e-03 1.303e-08 4.426e-06 2.585e-06\n",
      " 6.994e-09 4.818e-06]\n",
      " Timestep Accuracies: [1.    1.    1.    0.999 1.    1.    1.    1.    1.    1.   ] \n",
      "Test Dataset \n",
      " Accuracy: 99.73%\n",
      " Timestep Losses: [1.017e-05 9.002e-06 1.372e-05 2.582e-02 2.464e-08 2.205e-06 2.948e-06\n",
      " 2.146e-09 4.863e-06]\n",
      " Timestep Accuracies: [1.    1.    1.    0.997 1.    1.    1.    1.    1.    1.   ] \n"
     ]
    },
    {
     "data": {
      "text/plain": [
       "({'Training': 99.92857142857143,\n",
       "  'Cross-validation': 99.93333333333332,\n",
       "  'Test': 99.73333333333333},\n",
       " {})"
      ]
     },
     "execution_count": 20,
     "metadata": {},
     "output_type": "execute_result"
    }
   ],
   "source": [
    "# ACCURACY\n",
    "s0test = np.zeros((len(X_test), n_s))\n",
    "c0test = np.zeros((len(X_test), n_s))\n",
    "acc_dataset = {\"Training\": (Xoh_train, s0train, c0train, outputs_train),\n",
    "               \"Cross-validation\": (Xoh_cv, s0cv, c0cv, outputs_cv),\n",
    "               \"Test\": (Xoh_test, s0test, c0test, outputs_test)\n",
    "               }\n",
    "\n",
    "calculate_accuracy(model, acc_dataset)"
   ]
  },
  {
   "cell_type": "code",
   "execution_count": 21,
   "id": "a053f515b63d600c",
   "metadata": {
    "ExecuteTime": {
     "end_time": "2025-03-19T18:40:15.245470Z",
     "start_time": "2025-03-19T18:40:15.238199Z"
    },
    "collapsed": false,
    "jupyter": {
     "outputs_hidden": false
    }
   },
   "outputs": [],
   "source": [
    "# Note:This model demonstrates very strong performance overall, with high accuracy and minimal losses across\n",
    "# the training, cross-validation, and test datasets. The test accuracy of 99.73%, while great, is marginally\n",
    "# lower than cross-validation, suggesting minor variance between the datasets."
   ]
  },
  {
   "cell_type": "code",
   "execution_count": 22,
   "id": "f22c3bd0579f3dc8",
   "metadata": {
    "ExecuteTime": {
     "end_time": "2025-03-19T18:40:46.778521Z",
     "start_time": "2025-03-19T18:40:44.489821Z"
    },
    "collapsed": false,
    "jupyter": {
     "outputs_hidden": false
    }
   },
   "outputs": [
    {
     "name": "stdout",
     "output_type": "stream",
     "text": [
      "\n",
      "Training dataset incorrectly labeled samples: 5 out of 7000 (0.07% error rate)\n",
      "Examples of incorrectly labeled samples in the training dataset\n",
      " Source: 2007-12-31  Output: 2008-12-31\n",
      " Source: 1990-12-31  Output: 1991-12-31\n",
      " Source: 2015-01-01  Output: 2016-01-01\n",
      " Source: 1974-12-30  Output: 1975-12-30\n",
      " Source: 2016-01-03  Output: 2015-01-03\n",
      "\n",
      "Validation dataset incorrectly labeled samples: 1 out of 1500 (0.07% error rate)\n",
      "Examples of incorrectly labeled samples in the validation dataset\n",
      " Source: 2005-01-01  Output: 2004-01-01\n",
      "\n",
      "Test dataset incorrectly labeled samples: 4 out of 1500 (0.27% error rate)\n",
      "Examples of incorrectly labeled samples in the test dataset\n",
      " Source: 1993-01-03  Output: 1992-01-03\n",
      " Source: 1985-12-31  Output: 1986-12-31\n",
      " Source: 1999-01-02  Output: 1998-01-02\n",
      " Source: 1977-01-01  Output: 1976-01-01\n"
     ]
    }
   ],
   "source": [
    "# ERROR ANALYSIS\n",
    "vocab = inv_machine_vocab\n",
    "missed_idx_train = get_incorrect_indices(model, Xoh_train, Yoh_train, s0train, c0train, 'Training', vocab)\n",
    "missed_idx_cv = get_incorrect_indices(model, Xoh_cv, Yoh_cv, s0cv, c0cv, 'Validation', vocab)\n",
    "missed_idx_test = get_incorrect_indices(model, Xoh_test, Yoh_test, s0test, c0test, 'Test', vocab)\n",
    "print()"
   ]
  },
  {
   "cell_type": "code",
   "execution_count": 23,
   "id": "9128a16d22226181",
   "metadata": {
    "ExecuteTime": {
     "end_time": "2025-03-19T18:41:14.533833Z",
     "start_time": "2025-03-19T18:41:14.286469Z"
    },
    "collapsed": false,
    "jupyter": {
     "outputs_hidden": false
    }
   },
   "outputs": [
    {
     "name": "stdout",
     "output_type": "stream",
     "text": [
      "1/1 [==============================] - 0s 12ms/step\n",
      "['1', '9', '7', '9', '-', '0', '5', '-', '0', '3']\n",
      "Source: 3 May 1979\n",
      "Output: 1979-05-03 \n",
      "\n",
      "1/1 [==============================] - 0s 10ms/step\n",
      "['1', '9', '8', '5', '-', '0', '6', '-', '1', '2']\n",
      "Source: 12 June 1985\n",
      "Output: 1985-06-12 \n",
      "\n",
      "1/1 [==============================] - 0s 10ms/step\n",
      "['2', '0', '1', '4', '-', '0', '2', '-', '1', '9']\n",
      "Source: 19 February 14\n",
      "Output: 2014-02-19 \n",
      "\n",
      "1/1 [==============================] - 0s 9ms/step\n",
      "['2', '0', '1', '3', '-', '1', '0', '-', '1', '5']\n",
      "Source: Wed 15 of Oct 2013\n",
      "Output: 2013-10-15 \n",
      "\n",
      "1/1 [==============================] - 0s 9ms/step\n",
      "['2', '0', '1', '8', '-', '0', '5', '-', '0', '9']\n",
      "Source: Saturday May 09 2018\n",
      "Output: 2018-05-09 \n",
      "\n",
      "1/1 [==============================] - 0s 10ms/step\n",
      "['2', '0', '1', '8', '-', '0', '5', '-', '0', '9']\n",
      "Source: Saturday 9 May 2018\n",
      "Output: 2018-05-09 \n",
      "\n",
      "1/1 [==============================] - 0s 9ms/step\n",
      "['2', '0', '2', '1', '-', '0', '8', '-', '1', '7']\n",
      "Source: Friday August 17 2021\n",
      "Output: 2021-08-17 \n",
      "\n",
      "1/1 [==============================] - 0s 9ms/step\n",
      "['2', '0', '0', '1', '-', '0', '1', '-', '2', '5']\n",
      "Source: January 25 2001\n",
      "Output: 2001-01-25 \n",
      "\n",
      "1/1 [==============================] - 0s 10ms/step\n",
      "['2', '0', '0', '1', '-', '0', '1', '-', '2', '5']\n",
      "Source: 25 January 2001\n",
      "Output: 2001-01-25 \n",
      "1/1 [==============================] - 0s 10ms/step\n",
      "['2', '0', '1', '9', '-', '0', '1', '-', '2', '5']\n",
      "Source: Saturday 25 January 2019\n",
      "Output: 2019-01-25 \n"
     ]
    }
   ],
   "source": [
    "# TEST WITH SOME EXAMPLES\n",
    "examples = ['3 May 1979',\n",
    "            '12 June 1985',\n",
    "            '19 February 14',\n",
    "            'Wed 15 of Oct 2013',\n",
    "            'Saturday May 09 2018',\n",
    "            'Saturday 9 May 2018',\n",
    "            'Friday August 17 2021',\n",
    "            'January 25 2001',\n",
    "            '25 January 2001',\n",
    "            'Saturday 25 January 2019'\n",
    "            ]\n",
    "\n",
    "s00 = np.zeros((1, n_s))\n",
    "c00 = np.zeros((1, n_s))\n",
    "\n",
    "for example in examples:\n",
    "    source = string_to_int(example, Tx, human_vocab)\n",
    "    source = np.array(list(map(lambda x: to_categorical(x, num_classes=len(human_vocab)), source)))\n",
    "    source = np.expand_dims(source, axis=0)\n",
    "    prediction = model.predict([source, s00, c00])\n",
    "    prediction = np.argmax(prediction, axis=-1)\n",
    "    output = [inv_machine_vocab[int(i)] for i in prediction]\n",
    "\n",
    "    print(output)\n",
    "    print(\"Source:\", example)\n",
    "    print(\"Output:\", ''.join(output), \"\\n\")\n"
   ]
  },
  {
   "cell_type": "code",
   "execution_count": 24,
   "id": "3f3040f47c9fae5c",
   "metadata": {
    "ExecuteTime": {
     "end_time": "2025-03-19T18:41:40.636001Z",
     "start_time": "2025-03-19T18:41:40.363902Z"
    },
    "collapsed": false,
    "jupyter": {
     "outputs_hidden": false
    }
   },
   "outputs": [
    {
     "name": "stdout",
     "output_type": "stream",
     "text": [
      "1/1 [==============================] - 0s 10ms/step\n"
     ]
    },
    {
     "data": {
      "text/plain": [
       "<Figure size 640x480 with 0 Axes>"
      ]
     },
     "metadata": {},
     "output_type": "display_data"
    },
    {
     "data": {
      "image/png": "[encoded data removed]",
      "text/plain": [
       "<Figure size 640x480 with 2 Axes>"
      ]
     },
     "metadata": {},
     "output_type": "display_data"
    }
   ],
   "source": [
    "# VISUALIZING ATTENTIONS\n",
    "att_map = plot_attention_map(model, Tx, Ty, human_vocab, inv_machine_vocab,\n",
    "                             'Saturday 26 January 2019', n_s=n_s)"
   ]
  },
  {
   "cell_type": "code",
   "execution_count": 25,
   "id": "aa05e0afa62657d2",
   "metadata": {
    "ExecuteTime": {
     "end_time": "2025-03-19T18:42:19.564068Z",
     "start_time": "2025-03-19T18:42:19.549833Z"
    },
    "collapsed": false,
    "jupyter": {
     "outputs_hidden": false
    }
   },
   "outputs": [],
   "source": [
    "# Remarks:\n",
    "# The output ignores the \"Saturday\" in the input (sample human text). None of the output timesteps are\n",
    "# paying much attention to that portion of the input. In addition, January has been correctly translated\n",
    "# into 01, with the output paying attention to the parts of the input it needs to make the translation.\n",
    "# The year mostly pays attention to the input's \"19\" in order to generate \"2019.\""
   ]
  }
 ],
 "metadata": {
  "kernelspec": {
   "display_name": "Python 3 (ipykernel)",
   "language": "python",
   "name": "python3"
  },
  "language_info": {
   "codemirror_mode": {
    "name": "ipython",
    "version": 3
   },
   "file_extension": ".py",
   "mimetype": "text/x-python",
   "name": "python",
   "nbconvert_exporter": "python",
   "pygments_lexer": "ipython3",
   "version": "3.12.2"
  }
 },
 "nbformat": 4,
 "nbformat_minor": 5
}
